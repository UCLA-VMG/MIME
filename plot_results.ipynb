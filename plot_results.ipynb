{
 "cells": [
  {
   "cell_type": "code",
   "execution_count": null,
   "metadata": {},
   "outputs": [],
   "source": [
    "##Code to plot performance trends over Minority Training Ratios and trials"
   ]
  },
  {
   "cell_type": "code",
   "execution_count": null,
   "metadata": {
    "executionInfo": {
     "elapsed": 28075,
     "status": "ok",
     "timestamp": 1635734337893,
     "user": {
      "displayName": "Pradyumna Venkatesh Chari ee15b122",
      "photoUrl": "https://lh3.googleusercontent.com/a/default-user=s64",
      "userId": "06834979239220614319"
     },
     "user_tz": 420
    },
    "id": "SQhk1ztCqjL9"
   },
   "outputs": [],
   "source": [
    "import os, os.path\n",
    "import numpy as np\n",
    "import random\n",
    "import matplotlib.pyplot as plt"
   ]
  },
  {
   "cell_type": "code",
   "execution_count": null,
   "metadata": {
    "colab": {
     "base_uri": "https://localhost:8080/"
    },
    "executionInfo": {
     "elapsed": 444,
     "status": "ok",
     "timestamp": 1635736316535,
     "user": {
      "displayName": "Pradyumna Venkatesh Chari ee15b122",
      "photoUrl": "https://lh3.googleusercontent.com/a/default-user=s64",
      "userId": "06834979239220614319"
     },
     "user_tz": 420
    },
    "id": "cYmu9Aifr7Rl",
    "outputId": "6dcb672d-b068-4ac0-b759-cdc2d909a938"
   },
   "outputs": [],
   "source": [
    "#Load saved stats\n",
    "root_checkpoint_dir = './all_checkpoints/' #This directory contains subdirectories, one for each trial (each random seed). The directory for each trial contains subdirectories for each minority training fraction.\n",
    "runs = os.listdir(root_checkpoint_dir)\n",
    "\n",
    "label = 'dark' #***Naming convention: DS-1: dark, DS-2: dark, DS-3: male, DS-4: Female, DS-5:male, DS-6: chicken\n",
    "ll = len(label)\n",
    "samps = 11 #no. of minority training ratios used\n",
    "\n",
    "name_save_majority = 'test_accuracy_L.npy' #***Majority group stats; naming convention: DS-1: test_accuracy_L.npy, DS-2: test_accuracy_L.npy, DS-3: test_accuracy_M.npy, DS-4: test_accuracy_M.npy, DS-5: test_accuracy_F.npy, DS-6: test_accuracy_C.npy\n",
    "name_save_minority = 'test_accuracy_D.npy' #***Minority group stats; naming convention: DS-1: test_accuracy_D.npy, DS-2: test_accuracy_D.npy, DS-3: test_accuracy_F.npy, DS-4: test_accuracy_F.npy, DS-5: test_accuracy_M.npy, DS-6: test_accuracy_H.npy\n",
    "\n",
    "plot_maj_test = np.zeros([samps,2,len(runs)])\n",
    "\n",
    "zz=0\n",
    "for run in runs:\n",
    "    conf = root_checkpoint_dir+run+'/'\n",
    "    \n",
    "    fs = os.listdir(conf)\n",
    "    #get indices to reorder\n",
    "    fs_new = []\n",
    "    l_new = []\n",
    "    for f in fs:\n",
    "      if os.path.isdir(conf+f):\n",
    "        f_t = float(f[ll:])\n",
    "        l_new.append(f_t)\n",
    "        fs_new.append(f)\n",
    "\n",
    "    fs = fs_new\n",
    "\n",
    "    l_new = np.array(l_new)\n",
    "    ixs = np.flip(np.argsort(l_new))\n",
    "    l_new = np.flip(np.sort(l_new))\n",
    "    print(l_new)\n",
    "\n",
    "    fs =[fs[ix] for ix in ixs] #fs[ixs]\n",
    "    #flip to get in order of minority fraction\n",
    "    #fs.reverse()\n",
    "#     print(fs)\n",
    "\n",
    "\n",
    "    i = 0\n",
    "    for f in fs:\n",
    "      if os.path.isdir(conf+f):\n",
    "#         print(f)\n",
    "        path = conf+f\n",
    "\n",
    "        v2 = np.load(path+'/'+name_save_majority) \n",
    "        v3 = np.load(path+'/'+name_save_minority) \n",
    "\n",
    "        t_ix_max = np.argmax(v2)\n",
    "\n",
    "        plot_maj_test[i,0,zz] = v2[t_ix_max]\n",
    "        plot_maj_test[i,1,zz] = v3[t_ix_max]\n",
    "        i+=1\n",
    "    zz=zz+1"
   ]
  },
  {
   "cell_type": "code",
   "execution_count": null,
   "metadata": {},
   "outputs": [],
   "source": [
    "l_dash = l_new #***For DS-1, DS-2, DS-4, DS-5 (saved wrt minority fraction)\n",
    "# l_dash = 1-l_new #***For DS-3, DS-6 (saved wrt majority fraction)"
   ]
  },
  {
   "cell_type": "code",
   "execution_count": null,
   "metadata": {
    "colab": {
     "base_uri": "https://localhost:8080/",
     "height": 1000
    },
    "executionInfo": {
     "elapsed": 1234,
     "status": "ok",
     "timestamp": 1635738764844,
     "user": {
      "displayName": "Pradyumna Venkatesh Chari ee15b122",
      "photoUrl": "https://lh3.googleusercontent.com/a/default-user=s64",
      "userId": "06834979239220614319"
     },
     "user_tz": 420
    },
    "id": "5E-cbOE_iw9T",
    "outputId": "9f184db2-c96c-4e13-dd45-227d62268494"
   },
   "outputs": [],
   "source": [
    "#plot plots- for \n",
    "plt.style.use('seaborn-whitegrid')\n",
    "\n",
    "plot_vals = plot_maj_test\n",
    "\n",
    "avg_acc = np.mean(plot_vals[:,0,:],axis=-1) #Average accuracy\n",
    "\n",
    "std_maj = np.sqrt(np.var(plot_vals[:,0,:]-np.reshape(np.mean(plot_vals[:,0,:],axis=0),(-1,plot_vals.shape[-1])),axis=-1))\n",
    "\n",
    "\n",
    "errs = std_maj #error bounds\n",
    "\n",
    "plt.figure(figsize=(8,8), dpi=200)\n",
    "\n",
    "plt.plot(l_dash,avg_acc,'k-o',linewidth=3)\n",
    "plt.plot(l_dash,avg_acc[-1]*np.ones(l_dash.shape),'r--')\n",
    "\n",
    "plt.fill_between(l_dash, avg_acc - errs, avg_acc + errs,\n",
    "                 color='gray', alpha=0.2)\n",
    "\n",
    "plt.yticks(fontsize=25,fontname='Serif')\n",
    "plt.xticks(fontsize=25,fontname='Serif')\n",
    "plt.grid(False)\n",
    "plt.show()\n",
    "\n"
   ]
  }
 ],
 "metadata": {
  "colab": {
   "collapsed_sections": [],
   "name": "plot_results.ipynb",
   "provenance": []
  },
  "kernelspec": {
   "display_name": "Python 3",
   "language": "python",
   "name": "python3"
  },
  "language_info": {
   "codemirror_mode": {
    "name": "ipython",
    "version": 3
   },
   "file_extension": ".py",
   "mimetype": "text/x-python",
   "name": "python",
   "nbconvert_exporter": "python",
   "pygments_lexer": "ipython3",
   "version": "3.8.8"
  }
 },
 "nbformat": 4,
 "nbformat_minor": 1
}
